{
 "cells": [
  {
   "cell_type": "markdown",
   "metadata": {
    "id": "XcQErenHWEkW"
   },
   "source": [
    "## Optimal Partitioning:\n",
    "\n"
   ]
  },
  {
   "cell_type": "code",
   "execution_count": null,
   "metadata": {
    "id": "Bye8MQblWNNn"
   },
   "outputs": [],
   "source": [
    "%matplotlib inline\n",
    "import matplotlib\n",
    "matplotlib.use(\"Agg\")\n",
    "import ipywidgets\n",
    "matplotlib.rcParams.update({'figure.max_open_warning': 0}) #avoids a warning about how many figures to keep in memory\n",
    "\n",
    "import opt_algo\n",
    "from opt_algo import *"
   ]
  },
  {
   "cell_type": "code",
   "execution_count": null,
   "metadata": {},
   "outputs": [],
   "source": [
    "def simulation():\n",
    "    \n",
    "    # slider for n\n",
    "    n_slider = ipywidgets.IntSlider(value=100,\n",
    "                                    min=10,\n",
    "                                    max=500,\n",
    "                                    step=10,\n",
    "                                    description='n:')\n",
    "    def n_update(i):\n",
    "        global n\n",
    "        n = i\n",
    "    ipywidgets.interact(n_update, i=n_slider)\n",
    "\n",
    "\n",
    "    # slider for N\n",
    "    N_slider = ipywidgets.IntSlider(value=2,\n",
    "                                    min=1,\n",
    "                                    max=10,\n",
    "                                    step=1,\n",
    "                                    description='N:')\n",
    "    def N_update(i):\n",
    "        global N\n",
    "        N = i\n",
    "    ipywidgets.interact(N_update, i=N_slider)\n",
    "\n",
    "\n",
    "    # slider for c\n",
    "    c_slider = ipywidgets.IntSlider(value=4,\n",
    "                                    min=1,\n",
    "                                    max=6,\n",
    "                                    step=1,\n",
    "                                    description='c (10^slider):')\n",
    "    def c_update(i):\n",
    "        global c\n",
    "        c = 10**i\n",
    "    ipywidgets.interact(c_update, i=c_slider)\n",
    "\n",
    "\n",
    "    # slider for alpha\n",
    "    a_slider = ipywidgets.IntSlider(value=1,\n",
    "                                    min=0,\n",
    "                                    max=10,\n",
    "                                    step=1,\n",
    "                                    description='alpha:')\n",
    "\n",
    "    # slider for iters\n",
    "    t_slider = ipywidgets.IntSlider(value=50,\n",
    "                                    min=0,\n",
    "                                    max=200,\n",
    "                                    step=10,\n",
    "                                    description='iters:')\n",
    "    def iters_update(i):\n",
    "        global iters\n",
    "        iters = i\n",
    "    ipywidgets.interact(iters_update, i=t_slider)\n",
    "\n",
    "\n",
    "    # drop down for outer_shape\n",
    "    shape_drop = ipywidgets.Dropdown(options=['Square', 'Disk', 'Triangle'],\n",
    "                                     value='Square',\n",
    "                                     description='Outer_shape:')\n",
    "    def shape_update(i):\n",
    "        global outer_shape\n",
    "        outer_shape = i[0] # The symbol is the first letter of options\n",
    "\n",
    "    ipywidgets.interact(shape_update, i=shape_drop)\n",
    "\n",
    "\n",
    "    # Run button\n",
    "    button = ipywidgets.ToggleButton(value=False,\n",
    "                                     description='Run',\n",
    "                                     icon='check')\n",
    "    def run(i):\n",
    "        global FIGS\n",
    "        global init_data\n",
    "        \n",
    "        try: init_data\n",
    "        except NameError: init_data = None\n",
    "            \n",
    "        if i:\n",
    "            init_data = init_data if (init_data is not None and init_data['N'] == N and init_data['outer_shape'] == outer_shape) else None\n",
    "            # If init_data is defined and the number of components did not change, keep it. Otherwise it is None.\n",
    "            FIGS = FIGS if init_data else []\n",
    "            # Reinitialize figures that we will plot later\n",
    "            init_data = variableStepOptpart(n=n, N=N, c=c, iters=iters, outer_shape=outer_shape, FIGS=FIGS, init_data=init_data)\n",
    "\n",
    "\n",
    "    ipywidgets.interact(run, i=button)"
   ]
  },
  {
   "cell_type": "code",
   "execution_count": null,
   "metadata": {},
   "outputs": [],
   "source": [
    "def display_simulation():\n",
    "    global FIGS\n",
    "    slider = ipywidgets.IntSlider(value=0,\n",
    "                                  min=0,\n",
    "                                  max=len(FIGS)-2)\n",
    "\n",
    "    def figshow(i):\n",
    "        return display(FIGS[i])\n",
    "\n",
    "    ipywidgets.interact(figshow,i=slider);"
   ]
  },
  {
   "cell_type": "code",
   "execution_count": null,
   "metadata": {
    "scrolled": false
   },
   "outputs": [],
   "source": [
    "simulation()"
   ]
  },
  {
   "cell_type": "code",
   "execution_count": null,
   "metadata": {},
   "outputs": [],
   "source": [
    "display_simulation()"
   ]
  }
 ],
 "metadata": {
  "colab": {
   "collapsed_sections": [
    "P1QOP6evCF-5"
   ],
   "name": "Spectra under Dirichlet BC.ipynb",
   "provenance": [],
   "toc_visible": true
  },
  "kernelspec": {
   "display_name": "Python 3",
   "language": "python",
   "name": "python3"
  },
  "language_info": {
   "codemirror_mode": {
    "name": "ipython",
    "version": 3
   },
   "file_extension": ".py",
   "mimetype": "text/x-python",
   "name": "python",
   "nbconvert_exporter": "python",
   "pygments_lexer": "ipython3",
   "version": "3.8.5"
  }
 },
 "nbformat": 4,
 "nbformat_minor": 1
}
